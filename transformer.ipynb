{
 "cells": [
  {
   "cell_type": "code",
   "execution_count": 1,
   "metadata": {},
   "outputs": [],
   "source": [
    "import torch\n",
    "import torch.nn as nn\n",
    "import torch.optim as optim\n",
    "from torch.utils.data import DataLoader, TensorDataset\n",
    "import numpy as np\n",
    "import pickle\n",
    "import math\n",
    "from bidict import bidict\n",
    "from tqdm import tqdm\n",
    "from utils.dataset import generate_dataset\n",
    "from utils.Profiler import Profiler\n",
    "from copy import deepcopy\n",
    "import pandas as pd\n",
    "import matplotlib.pyplot as plt\n",
    "from SequentialGroup import Column, Group, Node, Link\n",
    "\n"
   ]
  },
  {
   "cell_type": "code",
   "execution_count": 2,
   "metadata": {},
   "outputs": [],
   "source": [
    "def plot_curve(y, color='#1F77B4', color2=\"#82B0D2\", window_size = 1000, y_bottom=None, y_top=None, label=None):\n",
    "    s = pd.Series(y)\n",
    "    s_ma = s.rolling(window=window_size, min_periods=1).mean()\n",
    "    upper_quartile = s.rolling(window=window_size, min_periods=1).quantile(0.75)\n",
    "    lower_quartile = s.rolling(window=window_size, min_periods=1).quantile(0.25)\n",
    "    plt.plot(s, c=color2, alpha=0.3, zorder=2)\n",
    "    plt.fill_between(s.index, lower_quartile, upper_quartile, color=color2, zorder=4)\n",
    "    plt.plot(s_ma, color=color, label=label, zorder=6)\n",
    "    plt.ylim(bottom=y_bottom, top=y_top)"
   ]
  },
  {
   "cell_type": "code",
   "execution_count": 3,
   "metadata": {},
   "outputs": [],
   "source": [
    "seq1 = ['A', 'B', 'C', 'D']\n",
    "seq2 = ['X', 'B', 'C', 'Y']\n",
    "seqs = [seq1, seq2]\n",
    "\n",
    "D_train, _, dictionary = generate_dataset(seqs)\n",
    "data = D_train[:5000]"
   ]
  },
  {
   "cell_type": "code",
   "execution_count": 4,
   "metadata": {},
   "outputs": [],
   "source": [
    "data_ = torch.tensor(data)\n"
   ]
  },
  {
   "cell_type": "code",
   "execution_count": 5,
   "metadata": {},
   "outputs": [],
   "source": [
    "embeddings = np.random.uniform(-1, 1, size=(27, 32))\n",
    "mapping = dict({i: embeddings[i] for i in range(len(embeddings))})"
   ]
  },
  {
   "cell_type": "markdown",
   "metadata": {},
   "source": [
    "## LSTM"
   ]
  },
  {
   "cell_type": "code",
   "execution_count": 6,
   "metadata": {},
   "outputs": [],
   "source": [
    "class SeL_LSTM(nn.Module):\n",
    "    def __init__(self, embeddings: torch.Tensor, num_layers, hidden_size, seq_length, dropout=0.1):\n",
    "        super(SeL_LSTM, self).__init__()\n",
    "        self.seq_length = seq_length\n",
    "        \n",
    "        embed = torch.FloatTensor(embeddings)\n",
    "        self.embedding = nn.Embedding(num_embeddings=embed.shape[0], embedding_dim=embed.shape[1], _weight=embed)\n",
    "        \n",
    "        self.lstm = nn.LSTM(input_size=embed.shape[1], hidden_size=hidden_size, num_layers=num_layers, dropout=dropout, batch_first=True)\n",
    "        self.decoder = nn.Linear(hidden_size, embed.shape[0])\n",
    "\n",
    "    def forward(self, src):\n",
    "        src = self.embedding(src)\n",
    "        lstm_out, _ = self.lstm(src)\n",
    "        output = self.decoder(lstm_out[:, -1, :])\n",
    "        return output"
   ]
  },
  {
   "cell_type": "code",
   "execution_count": 7,
   "metadata": {},
   "outputs": [],
   "source": [
    "num_layers = 2\n",
    "num_heads = 4\n",
    "seq_length = 4\n",
    "dropout = 0.1\n",
    "\n",
    "# Initialize model, loss function, and optimizer\n",
    "model = SeL_LSTM(embeddings, num_layers, num_heads, seq_length, dropout)\n",
    "criterion = nn.CrossEntropyLoss()\n",
    "optimizer = torch.optim.Adam(model.parameters(), lr=0.001)"
   ]
  },
  {
   "cell_type": "code",
   "execution_count": 8,
   "metadata": {},
   "outputs": [
    {
     "name": "stderr",
     "output_type": "stream",
     "text": [
      "  6%|▌         | 280/4996 [00:00<00:04, 985.40it/s]"
     ]
    },
    {
     "name": "stdout",
     "output_type": "stream",
     "text": [
      "3.265279769897461\n",
      "3.002615213394165\n",
      "3.574892520904541\n"
     ]
    },
    {
     "name": "stderr",
     "output_type": "stream",
     "text": [
      " 12%|█▏        | 612/4996 [00:00<00:04, 1069.49it/s]"
     ]
    },
    {
     "name": "stdout",
     "output_type": "stream",
     "text": [
      "3.3355865478515625\n",
      "2.7635154724121094\n",
      "2.4440293312072754\n"
     ]
    },
    {
     "name": "stderr",
     "output_type": "stream",
     "text": [
      " 17%|█▋        | 832/4996 [00:00<00:03, 1085.62it/s]"
     ]
    },
    {
     "name": "stdout",
     "output_type": "stream",
     "text": [
      "4.222622871398926\n",
      "2.3370449542999268\n",
      "3.441849708557129\n"
     ]
    },
    {
     "name": "stderr",
     "output_type": "stream",
     "text": [
      " 23%|██▎       | 1168/4996 [00:01<00:03, 1107.74it/s]"
     ]
    },
    {
     "name": "stdout",
     "output_type": "stream",
     "text": [
      "3.6390647888183594\n",
      "1.9618010520935059\n"
     ]
    },
    {
     "name": "stderr",
     "output_type": "stream",
     "text": [
      " 28%|██▊       | 1389/4996 [00:01<00:03, 1042.20it/s]"
     ]
    },
    {
     "name": "stdout",
     "output_type": "stream",
     "text": [
      "2.2995352745056152\n",
      "3.518545627593994\n",
      "1.7327470779418945\n"
     ]
    },
    {
     "name": "stderr",
     "output_type": "stream",
     "text": [
      " 32%|███▏      | 1598/4996 [00:01<00:03, 977.67it/s] "
     ]
    },
    {
     "name": "stdout",
     "output_type": "stream",
     "text": [
      "2.1720080375671387\n",
      "3.9865355491638184\n"
     ]
    },
    {
     "name": "stderr",
     "output_type": "stream",
     "text": [
      " 36%|███▋      | 1812/4996 [00:01<00:03, 1021.91it/s]"
     ]
    },
    {
     "name": "stdout",
     "output_type": "stream",
     "text": [
      "1.4838166236877441\n",
      "2.1369080543518066\n",
      "3.3003597259521484\n"
     ]
    },
    {
     "name": "stderr",
     "output_type": "stream",
     "text": [
      " 43%|████▎     | 2151/4996 [00:02<00:02, 1092.47it/s]"
     ]
    },
    {
     "name": "stdout",
     "output_type": "stream",
     "text": [
      "1.5527334213256836\n",
      "1.4967215061187744\n",
      "4.081755638122559\n"
     ]
    },
    {
     "name": "stderr",
     "output_type": "stream",
     "text": [
      " 49%|████▉     | 2465/4996 [00:02<00:02, 996.73it/s] "
     ]
    },
    {
     "name": "stdout",
     "output_type": "stream",
     "text": [
      "1.3109769821166992\n",
      "2.59220027923584\n",
      "3.1001765727996826\n"
     ]
    },
    {
     "name": "stderr",
     "output_type": "stream",
     "text": [
      " 56%|█████▌    | 2785/4996 [00:02<00:02, 1039.07it/s]"
     ]
    },
    {
     "name": "stdout",
     "output_type": "stream",
     "text": [
      "1.1518573760986328\n",
      "1.9287902116775513\n",
      "2.7263145446777344\n"
     ]
    },
    {
     "name": "stderr",
     "output_type": "stream",
     "text": [
      " 62%|██████▏   | 3119/4996 [00:03<00:01, 1087.90it/s]"
     ]
    },
    {
     "name": "stdout",
     "output_type": "stream",
     "text": [
      "1.055802822113037\n",
      "1.445198893547058\n",
      "3.398170232772827\n"
     ]
    },
    {
     "name": "stderr",
     "output_type": "stream",
     "text": [
      " 67%|██████▋   | 3339/4996 [00:03<00:01, 1092.65it/s]"
     ]
    },
    {
     "name": "stdout",
     "output_type": "stream",
     "text": [
      "1.061413288116455\n",
      "1.2915961742401123\n",
      "3.7419443130493164\n"
     ]
    },
    {
     "name": "stderr",
     "output_type": "stream",
     "text": [
      " 73%|███████▎  | 3670/4996 [00:03<00:01, 1091.60it/s]"
     ]
    },
    {
     "name": "stdout",
     "output_type": "stream",
     "text": [
      "1.0355991125106812\n",
      "1.377833604812622\n",
      "3.485081911087036\n"
     ]
    },
    {
     "name": "stderr",
     "output_type": "stream",
     "text": [
      " 80%|████████  | 3998/4996 [00:03<00:00, 1087.48it/s]"
     ]
    },
    {
     "name": "stdout",
     "output_type": "stream",
     "text": [
      "0.9406781196594238\n",
      "1.711766004562378\n",
      "3.752100944519043\n"
     ]
    },
    {
     "name": "stderr",
     "output_type": "stream",
     "text": [
      " 84%|████████▍ | 4215/4996 [00:04<00:00, 1071.55it/s]"
     ]
    },
    {
     "name": "stdout",
     "output_type": "stream",
     "text": [
      "0.8985412120819092\n",
      "1.588484525680542\n",
      "3.1085128784179688\n"
     ]
    },
    {
     "name": "stderr",
     "output_type": "stream",
     "text": [
      " 91%|█████████ | 4543/4996 [00:04<00:00, 1082.92it/s]"
     ]
    },
    {
     "name": "stdout",
     "output_type": "stream",
     "text": [
      "0.8700218796730042\n",
      "1.2694809436798096\n",
      "3.5605010986328125\n"
     ]
    },
    {
     "name": "stderr",
     "output_type": "stream",
     "text": [
      " 97%|█████████▋| 4871/4996 [00:04<00:00, 1085.10it/s]"
     ]
    },
    {
     "name": "stdout",
     "output_type": "stream",
     "text": [
      "0.8552218079566956\n",
      "3.109915018081665\n",
      "2.8765807151794434\n"
     ]
    },
    {
     "name": "stderr",
     "output_type": "stream",
     "text": [
      "100%|██████████| 4996/4996 [00:04<00:00, 1055.36it/s]\n"
     ]
    }
   ],
   "source": [
    "losses = []\n",
    "accuracies1 = []\n",
    "profiler = Profiler(100)\n",
    "n_span = seq_length\n",
    "topk = 1\n",
    "for i in tqdm(range(n_span, len(data_))):\n",
    "    src, tgt = data_[i-n_span:i], data_[i:i+1]\n",
    "\n",
    "    optimizer.zero_grad()\n",
    "    pred: torch.Tensor = model(src.unsqueeze(0))\n",
    "    loss = criterion(pred.view(-1, pred.shape[-1]), tgt.view(-1))\n",
    "    # loss = criterion(output, tgt.unsqueeze(0))\n",
    "    loss.backward()\n",
    "    optimizer.step()\n",
    "\n",
    "\n",
    "    losses.append(float(loss))\n",
    "    if i%100 == 0:\n",
    "        print(losses[-1])\n",
    "\n",
    "    # labels = torch.argmax(pred.detach(), dim=-1)\n",
    "    _, labels = torch.topk(pred.detach(), topk)\n",
    "    anticipations = set(labels.squeeze(0).tolist())\n",
    "    acc = profiler.observe(anticipations, int(tgt))\n",
    "    \n",
    "    accuracies1.append(float(acc))\n"
   ]
  },
  {
   "cell_type": "code",
   "execution_count": 9,
   "metadata": {},
   "outputs": [
    {
     "data": {
      "text/plain": [
       "Text(0.5, 0, 'event')"
      ]
     },
     "execution_count": 9,
     "metadata": {},
     "output_type": "execute_result"
    },
    {
     "data": {
      "image/png": "[encoded data removed]",
      "text/plain": [
       "<Figure size 200x160 with 1 Axes>"
      ]
     },
     "metadata": {},
     "output_type": "display_data"
    }
   ],
   "source": [
    "plt.figure(figsize=(2,1.6))\n",
    "plt.subplots_adjust(left=0.3, right=1.0, top=0.95, bottom=0.3)\n",
    "plot_curve(accuracies1[:50000], y_bottom=0, y_top=1, label=\"all\")\n",
    "plt.axhline(0.5, color='#999999', alpha=0.5, linestyle='--', zorder=5)\n",
    "# plot_curve(accuracies1_2[:50000], color=\"#2CA02C\", color2=\"#8ECFC9\", y_bottom=0, y_top=1, label=\"Top1\")\n",
    "# plt.legend(loc='upper right')\n",
    "plt.ylabel(\"accuracy\")\n",
    "plt.xlabel(\"event\")"
   ]
  },
  {
   "cell_type": "markdown",
   "metadata": {},
   "source": [
    "## Transformer"
   ]
  },
  {
   "cell_type": "code",
   "execution_count": 10,
   "metadata": {},
   "outputs": [],
   "source": [
    "\n",
    "class SeL_Transformer(nn.Module):\n",
    "    def __init__(self, embeddings: torch.Tensor, num_layers, num_heads, seq_length, dropout=0.1):\n",
    "        super(SeL_Transformer, self).__init__()\n",
    "        self.seq_length = seq_length\n",
    "        \n",
    "        hidden_size = embeddings.shape[1]\n",
    "        \n",
    "        embed = torch.FloatTensor(embeddings)\n",
    "        self.embedding = nn.Embedding(num_embeddings=embed.shape[0], embedding_dim=embed.shape[1], _weight=embed)\n",
    "        \n",
    "        self.positional_encoding = nn.Parameter(torch.zeros(1, seq_length, hidden_size))\n",
    "        encoder_layer = nn.TransformerEncoderLayer(d_model=hidden_size, nhead=num_heads, dropout=dropout)\n",
    "        self.transformer_encoder = nn.TransformerEncoder(encoder_layer, num_layers=num_layers)\n",
    "        self.decoder = nn.Linear(hidden_size, embed.shape[0])\n",
    "\n",
    "    def forward(self, src):\n",
    "        src = self.embedding(src) + self.positional_encoding[:, :self.seq_length, :]\n",
    "        output = self.transformer_encoder(src)\n",
    "        output = self.decoder(output[:, -1, :])\n",
    "        return output"
   ]
  },
  {
   "cell_type": "code",
   "execution_count": 11,
   "metadata": {},
   "outputs": [
    {
     "name": "stderr",
     "output_type": "stream",
     "text": [
      "/opt/homebrew/Caskroom/miniforge/base/envs/PyNARS/lib/python3.9/site-packages/torch/nn/modules/transformer.py:306: UserWarning: enable_nested_tensor is True, but self.use_nested_tensor is False because encoder_layer.self_attn.batch_first was not True(use batch_first for better inference performance)\n",
      "  warnings.warn(f\"enable_nested_tensor is True, but self.use_nested_tensor is False because {why_not_sparsity_fast_path}\")\n"
     ]
    }
   ],
   "source": [
    "num_layers = 2\n",
    "num_heads = 4\n",
    "seq_length = 4\n",
    "dropout = 0.1\n",
    "\n",
    "# Initialize model, loss function, and optimizer\n",
    "model = SeL_Transformer(embeddings, num_layers, num_heads, seq_length, dropout)\n",
    "criterion = nn.CrossEntropyLoss()\n",
    "optimizer = torch.optim.Adam(model.parameters(), lr=0.001)"
   ]
  },
  {
   "cell_type": "code",
   "execution_count": 12,
   "metadata": {},
   "outputs": [
    {
     "name": "stderr",
     "output_type": "stream",
     "text": [
      "  2%|▏         | 107/4996 [00:01<00:52, 93.60it/s]"
     ]
    },
    {
     "name": "stdout",
     "output_type": "stream",
     "text": [
      "4.541497230529785\n"
     ]
    },
    {
     "name": "stderr",
     "output_type": "stream",
     "text": [
      "  4%|▍         | 207/4996 [00:02<00:48, 98.14it/s] "
     ]
    },
    {
     "name": "stdout",
     "output_type": "stream",
     "text": [
      "0.4896186292171478\n"
     ]
    },
    {
     "name": "stderr",
     "output_type": "stream",
     "text": [
      "  6%|▌         | 305/4996 [00:03<00:47, 99.55it/s]"
     ]
    },
    {
     "name": "stdout",
     "output_type": "stream",
     "text": [
      "1.3313881158828735\n"
     ]
    },
    {
     "name": "stderr",
     "output_type": "stream",
     "text": [
      "  8%|▊         | 412/4996 [00:04<00:48, 94.86it/s]"
     ]
    },
    {
     "name": "stdout",
     "output_type": "stream",
     "text": [
      "5.185905456542969\n"
     ]
    },
    {
     "name": "stderr",
     "output_type": "stream",
     "text": [
      " 10%|█         | 509/4996 [00:05<00:44, 100.85it/s]"
     ]
    },
    {
     "name": "stdout",
     "output_type": "stream",
     "text": [
      "0.09264709800481796\n"
     ]
    },
    {
     "name": "stderr",
     "output_type": "stream",
     "text": [
      " 12%|█▏        | 607/4996 [00:06<00:47, 93.33it/s] "
     ]
    },
    {
     "name": "stdout",
     "output_type": "stream",
     "text": [
      "1.9022877216339111\n"
     ]
    },
    {
     "name": "stderr",
     "output_type": "stream",
     "text": [
      " 14%|█▍        | 714/4996 [00:07<00:47, 90.76it/s] "
     ]
    },
    {
     "name": "stdout",
     "output_type": "stream",
     "text": [
      "3.8553550243377686\n"
     ]
    },
    {
     "name": "stderr",
     "output_type": "stream",
     "text": [
      " 16%|█▌        | 808/4996 [00:08<00:59, 70.74it/s]"
     ]
    },
    {
     "name": "stdout",
     "output_type": "stream",
     "text": [
      "0.10513705760240555\n"
     ]
    },
    {
     "name": "stderr",
     "output_type": "stream",
     "text": [
      " 18%|█▊        | 909/4996 [00:10<00:44, 92.74it/s]"
     ]
    },
    {
     "name": "stdout",
     "output_type": "stream",
     "text": [
      "3.549189567565918\n"
     ]
    },
    {
     "name": "stderr",
     "output_type": "stream",
     "text": [
      " 20%|██        | 1012/4996 [00:11<00:43, 90.69it/s]"
     ]
    },
    {
     "name": "stdout",
     "output_type": "stream",
     "text": [
      "3.5181901454925537\n"
     ]
    },
    {
     "name": "stderr",
     "output_type": "stream",
     "text": [
      " 22%|██▏       | 1113/4996 [00:12<00:36, 105.72it/s]"
     ]
    },
    {
     "name": "stdout",
     "output_type": "stream",
     "text": [
      "0.09544739127159119\n"
     ]
    },
    {
     "name": "stderr",
     "output_type": "stream",
     "text": [
      " 24%|██▍       | 1214/4996 [00:13<00:37, 101.84it/s]"
     ]
    },
    {
     "name": "stdout",
     "output_type": "stream",
     "text": [
      "1.2550022602081299\n"
     ]
    },
    {
     "name": "stderr",
     "output_type": "stream",
     "text": [
      " 26%|██▌       | 1307/4996 [00:14<00:44, 83.50it/s] "
     ]
    },
    {
     "name": "stdout",
     "output_type": "stream",
     "text": [
      "2.9497251510620117\n"
     ]
    },
    {
     "name": "stderr",
     "output_type": "stream",
     "text": [
      " 28%|██▊       | 1410/4996 [00:15<00:34, 102.87it/s]"
     ]
    },
    {
     "name": "stdout",
     "output_type": "stream",
     "text": [
      "0.0859411358833313\n"
     ]
    },
    {
     "name": "stderr",
     "output_type": "stream",
     "text": [
      " 30%|███       | 1512/4996 [00:16<00:37, 92.59it/s] "
     ]
    },
    {
     "name": "stdout",
     "output_type": "stream",
     "text": [
      "1.1913247108459473\n"
     ]
    },
    {
     "name": "stderr",
     "output_type": "stream",
     "text": [
      " 32%|███▏      | 1605/4996 [00:17<00:38, 87.89it/s]"
     ]
    },
    {
     "name": "stdout",
     "output_type": "stream",
     "text": [
      "3.7453556060791016\n"
     ]
    },
    {
     "name": "stderr",
     "output_type": "stream",
     "text": [
      " 34%|███▍      | 1707/4996 [00:18<00:35, 91.93it/s]"
     ]
    },
    {
     "name": "stdout",
     "output_type": "stream",
     "text": [
      "0.06889503449201584\n"
     ]
    },
    {
     "name": "stderr",
     "output_type": "stream",
     "text": [
      " 36%|███▋      | 1815/4996 [00:19<00:36, 87.95it/s]"
     ]
    },
    {
     "name": "stdout",
     "output_type": "stream",
     "text": [
      "1.840395212173462\n"
     ]
    },
    {
     "name": "stderr",
     "output_type": "stream",
     "text": [
      " 38%|███▊      | 1913/4996 [00:21<00:32, 95.43it/s]"
     ]
    },
    {
     "name": "stdout",
     "output_type": "stream",
     "text": [
      "3.6385109424591064\n"
     ]
    },
    {
     "name": "stderr",
     "output_type": "stream",
     "text": [
      " 40%|████      | 2011/4996 [00:22<00:34, 86.93it/s]"
     ]
    },
    {
     "name": "stdout",
     "output_type": "stream",
     "text": [
      "0.03568538278341293\n"
     ]
    },
    {
     "name": "stderr",
     "output_type": "stream",
     "text": [
      " 42%|████▏     | 2107/4996 [00:23<00:31, 92.40it/s]"
     ]
    },
    {
     "name": "stdout",
     "output_type": "stream",
     "text": [
      "1.5171757936477661\n"
     ]
    },
    {
     "name": "stderr",
     "output_type": "stream",
     "text": [
      " 44%|████▍     | 2213/4996 [00:24<00:32, 86.79it/s]"
     ]
    },
    {
     "name": "stdout",
     "output_type": "stream",
     "text": [
      "3.921816825866699\n"
     ]
    },
    {
     "name": "stderr",
     "output_type": "stream",
     "text": [
      " 46%|████▌     | 2301/4996 [00:26<00:48, 55.33it/s]"
     ]
    },
    {
     "name": "stdout",
     "output_type": "stream",
     "text": [
      "0.1079217940568924\n"
     ]
    },
    {
     "name": "stderr",
     "output_type": "stream",
     "text": [
      " 48%|████▊     | 2407/4996 [00:28<00:44, 58.52it/s]"
     ]
    },
    {
     "name": "stdout",
     "output_type": "stream",
     "text": [
      "1.3798774480819702\n"
     ]
    },
    {
     "name": "stderr",
     "output_type": "stream",
     "text": [
      " 50%|█████     | 2510/4996 [00:29<00:27, 89.13it/s]"
     ]
    },
    {
     "name": "stdout",
     "output_type": "stream",
     "text": [
      "3.794611930847168\n"
     ]
    },
    {
     "name": "stderr",
     "output_type": "stream",
     "text": [
      " 52%|█████▏    | 2610/4996 [00:30<00:24, 98.60it/s] "
     ]
    },
    {
     "name": "stdout",
     "output_type": "stream",
     "text": [
      "0.17078126966953278\n"
     ]
    },
    {
     "name": "stderr",
     "output_type": "stream",
     "text": [
      " 54%|█████▍    | 2715/4996 [00:31<00:24, 92.71it/s] "
     ]
    },
    {
     "name": "stdout",
     "output_type": "stream",
     "text": [
      "2.349856376647949\n"
     ]
    },
    {
     "name": "stderr",
     "output_type": "stream",
     "text": [
      " 56%|█████▋    | 2813/4996 [00:32<00:18, 119.62it/s]"
     ]
    },
    {
     "name": "stdout",
     "output_type": "stream",
     "text": [
      "3.30090069770813\n"
     ]
    },
    {
     "name": "stderr",
     "output_type": "stream",
     "text": [
      " 58%|█████▊    | 2909/4996 [00:33<00:21, 98.51it/s] "
     ]
    },
    {
     "name": "stdout",
     "output_type": "stream",
     "text": [
      "0.06682232022285461\n"
     ]
    },
    {
     "name": "stderr",
     "output_type": "stream",
     "text": [
      " 60%|██████    | 3012/4996 [00:34<00:22, 89.44it/s]"
     ]
    },
    {
     "name": "stdout",
     "output_type": "stream",
     "text": [
      "1.171188473701477\n"
     ]
    },
    {
     "name": "stderr",
     "output_type": "stream",
     "text": [
      " 62%|██████▏   | 3106/4996 [00:35<00:20, 91.15it/s]"
     ]
    },
    {
     "name": "stdout",
     "output_type": "stream",
     "text": [
      "3.5604803562164307\n"
     ]
    },
    {
     "name": "stderr",
     "output_type": "stream",
     "text": [
      " 64%|██████▍   | 3205/4996 [00:36<00:20, 88.14it/s] "
     ]
    },
    {
     "name": "stdout",
     "output_type": "stream",
     "text": [
      "0.06347965449094772\n"
     ]
    },
    {
     "name": "stderr",
     "output_type": "stream",
     "text": [
      " 66%|██████▌   | 3305/4996 [00:38<00:18, 90.75it/s]"
     ]
    },
    {
     "name": "stdout",
     "output_type": "stream",
     "text": [
      "1.0852173566818237\n"
     ]
    },
    {
     "name": "stderr",
     "output_type": "stream",
     "text": [
      " 68%|██████▊   | 3409/4996 [00:39<00:21, 75.33it/s]"
     ]
    },
    {
     "name": "stdout",
     "output_type": "stream",
     "text": [
      "3.5129318237304688\n"
     ]
    },
    {
     "name": "stderr",
     "output_type": "stream",
     "text": [
      " 70%|███████   | 3508/4996 [00:40<00:19, 78.25it/s]"
     ]
    },
    {
     "name": "stdout",
     "output_type": "stream",
     "text": [
      "0.07379980385303497\n"
     ]
    },
    {
     "name": "stderr",
     "output_type": "stream",
     "text": [
      " 72%|███████▏  | 3606/4996 [00:41<00:16, 85.28it/s]"
     ]
    },
    {
     "name": "stdout",
     "output_type": "stream",
     "text": [
      "1.3780862092971802\n"
     ]
    },
    {
     "name": "stderr",
     "output_type": "stream",
     "text": [
      " 74%|███████▍  | 3710/4996 [00:42<00:13, 98.41it/s]"
     ]
    },
    {
     "name": "stdout",
     "output_type": "stream",
     "text": [
      "4.03179931640625\n"
     ]
    },
    {
     "name": "stderr",
     "output_type": "stream",
     "text": [
      " 76%|███████▌  | 3803/4996 [00:43<00:12, 94.84it/s] "
     ]
    },
    {
     "name": "stdout",
     "output_type": "stream",
     "text": [
      "0.07709717005491257\n"
     ]
    },
    {
     "name": "stderr",
     "output_type": "stream",
     "text": [
      " 78%|███████▊  | 3906/4996 [00:44<00:11, 91.00it/s] "
     ]
    },
    {
     "name": "stdout",
     "output_type": "stream",
     "text": [
      "1.5188207626342773\n"
     ]
    },
    {
     "name": "stderr",
     "output_type": "stream",
     "text": [
      " 80%|████████  | 4010/4996 [00:46<00:12, 82.08it/s] "
     ]
    },
    {
     "name": "stdout",
     "output_type": "stream",
     "text": [
      "3.956770896911621\n"
     ]
    },
    {
     "name": "stderr",
     "output_type": "stream",
     "text": [
      " 82%|████████▏ | 4103/4996 [00:47<00:10, 87.07it/s]"
     ]
    },
    {
     "name": "stdout",
     "output_type": "stream",
     "text": [
      "0.03919454291462898\n"
     ]
    },
    {
     "name": "stderr",
     "output_type": "stream",
     "text": [
      " 84%|████████▍ | 4212/4996 [00:48<00:10, 74.23it/s]"
     ]
    },
    {
     "name": "stdout",
     "output_type": "stream",
     "text": [
      "1.354323148727417\n"
     ]
    },
    {
     "name": "stderr",
     "output_type": "stream",
     "text": [
      " 86%|████████▌ | 4306/4996 [00:50<00:09, 76.06it/s]"
     ]
    },
    {
     "name": "stdout",
     "output_type": "stream",
     "text": [
      "3.1489672660827637\n"
     ]
    },
    {
     "name": "stderr",
     "output_type": "stream",
     "text": [
      " 88%|████████▊ | 4405/4996 [00:51<00:08, 73.71it/s]"
     ]
    },
    {
     "name": "stdout",
     "output_type": "stream",
     "text": [
      "0.054835814982652664\n"
     ]
    },
    {
     "name": "stderr",
     "output_type": "stream",
     "text": [
      " 90%|█████████ | 4511/4996 [00:53<00:06, 77.76it/s]"
     ]
    },
    {
     "name": "stdout",
     "output_type": "stream",
     "text": [
      "4.4622416496276855\n"
     ]
    },
    {
     "name": "stderr",
     "output_type": "stream",
     "text": [
      " 92%|█████████▏| 4600/4996 [00:54<00:04, 79.45it/s]"
     ]
    },
    {
     "name": "stdout",
     "output_type": "stream",
     "text": [
      "3.818843126296997\n"
     ]
    },
    {
     "name": "stderr",
     "output_type": "stream",
     "text": [
      " 94%|█████████▍| 4711/4996 [00:55<00:03, 90.94it/s]"
     ]
    },
    {
     "name": "stdout",
     "output_type": "stream",
     "text": [
      "0.04180394858121872\n"
     ]
    },
    {
     "name": "stderr",
     "output_type": "stream",
     "text": [
      " 96%|█████████▌| 4800/4996 [00:56<00:02, 75.24it/s]"
     ]
    },
    {
     "name": "stdout",
     "output_type": "stream",
     "text": [
      "3.497833490371704\n"
     ]
    },
    {
     "name": "stderr",
     "output_type": "stream",
     "text": [
      " 98%|█████████▊| 4911/4996 [00:58<00:01, 70.72it/s]"
     ]
    },
    {
     "name": "stdout",
     "output_type": "stream",
     "text": [
      "3.2067909240722656\n"
     ]
    },
    {
     "name": "stderr",
     "output_type": "stream",
     "text": [
      "100%|██████████| 4996/4996 [00:59<00:00, 83.47it/s]\n"
     ]
    }
   ],
   "source": [
    "losses = []\n",
    "accuracies2 = []\n",
    "profiler = Profiler(100)\n",
    "n_span = seq_length\n",
    "topk = 1\n",
    "for i in tqdm(range(n_span, len(data_))):\n",
    "    src, tgt = data_[i-n_span:i], data_[i:i+1]\n",
    "\n",
    "    optimizer.zero_grad()\n",
    "    pred: torch.Tensor = model(src.unsqueeze(0))\n",
    "    loss = criterion(pred.view(-1, pred.shape[-1]), tgt.view(-1))\n",
    "    # loss = criterion(output, tgt.unsqueeze(0))\n",
    "    loss.backward()\n",
    "    optimizer.step()\n",
    "\n",
    "\n",
    "    losses.append(float(loss))\n",
    "    if i%100 == 0:\n",
    "        print(losses[-1])\n",
    "\n",
    "    # labels = torch.argmax(pred.detach(), dim=-1)\n",
    "    _, labels = torch.topk(pred.detach(), topk)\n",
    "    anticipations = set(labels.squeeze(0).tolist())\n",
    "    acc = profiler.observe(anticipations, int(tgt))\n",
    "    \n",
    "    accuracies2.append(float(acc))\n"
   ]
  },
  {
   "cell_type": "code",
   "execution_count": 13,
   "metadata": {},
   "outputs": [
    {
     "data": {
      "text/plain": [
       "Text(0.5, 0, 'event')"
      ]
     },
     "execution_count": 13,
     "metadata": {},
     "output_type": "execute_result"
    },
    {
     "data": {
      "image/png": "[encoded data removed]",
      "text/plain": [
       "<Figure size 200x160 with 1 Axes>"
      ]
     },
     "metadata": {},
     "output_type": "display_data"
    }
   ],
   "source": [
    "plt.figure(figsize=(2,1.6))\n",
    "plt.subplots_adjust(left=0.3, right=1.0, top=0.95, bottom=0.3)\n",
    "plot_curve(accuracies2[:50000], y_bottom=0, y_top=1, label=\"all\")\n",
    "plt.axhline(0.5, color='#999999', alpha=0.5, linestyle='--', zorder=5)\n",
    "# plot_curve(accuracies1_2[:50000], color=\"#2CA02C\", color2=\"#8ECFC9\", y_bottom=0, y_top=1, label=\"Top1\")\n",
    "# plt.legend(loc='upper right')\n",
    "plt.ylabel(\"accuracy\")\n",
    "plt.xlabel(\"event\")"
   ]
  },
  {
   "cell_type": "markdown",
   "metadata": {},
   "source": [
    "## SeL-NAL"
   ]
  },
  {
   "cell_type": "code",
   "execution_count": 14,
   "metadata": {},
   "outputs": [],
   "source": [
    "def create_model(n_columns, n_nodes):\n",
    "    # Create the model\n",
    "    g = Group(n_columns, n_nodes)\n",
    "    g.thresh = 0.8\n",
    "    g.p_plus = 2 #1.95\n",
    "    g.p_minus = 0.99 #0.9\n",
    "    g.p_minus2 = 0.01\n",
    "\n",
    "    for idx, column in enumerate(g.columns):\n",
    "        column.mark = idx\n",
    "    return g\n",
    "\n",
    "def test_model(g: Group, data, top1=False):\n",
    "    print(len(data))\n",
    "    print(data[:20])\n",
    "    accuracies = []\n",
    "    n_anticipations = []\n",
    "\n",
    "    profiler = Profiler(100)\n",
    "    for i, (idx, idx_next) in enumerate((tqdm(zip(data[:-1], data[1:]), total=len(data)-1))):\n",
    "        candidates: set[Node] = g.activate(idx)\n",
    "        anticipations = set()\n",
    "        if not top1:\n",
    "            for candidate in candidates:\n",
    "                anticipations.add(candidate.column.mark)\n",
    "        else:\n",
    "            if len(candidates) > 0:\n",
    "                candidate = max(candidates, key=lambda node: node.activity_pred)\n",
    "                anticipations.add(candidate.column.mark)\n",
    "\n",
    "        ''' compute the accuracy '''\n",
    "        acc = profiler.observe(anticipations, idx_next)\n",
    "        accuracies.append(acc)\n",
    "        ''' count the number of valid anticipations '''\n",
    "        a = np.array(g.columns[idx].get_activities(), dtype=bool)\n",
    "        if not all(a):\n",
    "            n_anticipations.append((len(anticipations), sum(a)))\n",
    "        # n_anticipations.append(len(anticipations))\n",
    "        \n",
    "    return accuracies, g, n_anticipations"
   ]
  },
  {
   "cell_type": "code",
   "execution_count": 15,
   "metadata": {},
   "outputs": [
    {
     "name": "stdout",
     "output_type": "stream",
     "text": [
      "5000\n",
      "[0, 3, 2, 1, 6, 13, 5, 3, 2, 4, 16, 11, 0, 3, 2, 1, 1, 9, 0, 3]\n"
     ]
    },
    {
     "name": "stderr",
     "output_type": "stream",
     "text": [
      "100%|██████████| 4999/4999 [00:00<00:00, 9751.59it/s] \n"
     ]
    }
   ],
   "source": [
    "g1 = create_model(26, 10)\n",
    "accuracies3, _, _ = test_model(g1, data, top1=True)"
   ]
  },
  {
   "cell_type": "code",
   "execution_count": 16,
   "metadata": {},
   "outputs": [
    {
     "data": {
      "text/plain": [
       "Text(0.5, 0, 'event')"
      ]
     },
     "execution_count": 16,
     "metadata": {},
     "output_type": "execute_result"
    },
    {
     "data": {
      "image/png": "[encoded data removed]",
      "text/plain": [
       "<Figure size 200x160 with 1 Axes>"
      ]
     },
     "metadata": {},
     "output_type": "display_data"
    }
   ],
   "source": [
    "plt.figure(figsize=(2,1.6))\n",
    "plt.subplots_adjust(left=0.3, right=1.0, top=0.95, bottom=0.3)\n",
    "plot_curve(accuracies3[:50000], y_bottom=0, y_top=1, label=\"all\")\n",
    "plt.axhline(0.5, color='#999999', alpha=0.5, linestyle='--', zorder=5)\n",
    "plt.ylabel(\"accuracy\")\n",
    "plt.xlabel(\"event\")"
   ]
  },
  {
   "cell_type": "markdown",
   "metadata": {},
   "source": [
    "## Compare"
   ]
  },
  {
   "cell_type": "code",
   "execution_count": 17,
   "metadata": {},
   "outputs": [
    {
     "data": {
      "image/png": "[encoded data removed]",
      "text/plain": [
       "<Figure size 640x480 with 1 Axes>"
      ]
     },
     "metadata": {},
     "output_type": "display_data"
    }
   ],
   "source": [
    "plt.figure()\n",
    "# plt.subplots_adjust(left=0.3, right=1.0, top=0.95, bottom=0.3)\n",
    "plot_curve(accuracies1[:50000], color='#1F77B4', color2=\"#82B0D2\", y_bottom=0, y_top=1, label=\"LSTM\")\n",
    "plot_curve(accuracies2[:50000], color=\"#2CA02C\", color2=\"#8ECFC9\", y_bottom=0, y_top=1, label=\"Transformer\")\n",
    "plot_curve(accuracies3[:50000], color=\"#FF7F0E\", color2=\"#FFBE7A\", y_bottom=0, y_top=1, label=\"SeL-NAL\")\n",
    "plt.legend()\n",
    "plt.axhline(0.5, color='#999999', alpha=0.5, linestyle='--', zorder=5)\n",
    "plt.ylabel(\"accuracy\")\n",
    "plt.xlabel(\"event\")\n",
    "plt.savefig(\"Figures/compare.pdf\")"
   ]
  }
 ],
 "metadata": {
  "kernelspec": {
   "display_name": "PyTorchEnv",
   "language": "python",
   "name": "python3"
  },
  "language_info": {
   "codemirror_mode": {
    "name": "ipython",
    "version": 3
   },
   "file_extension": ".py",
   "mimetype": "text/x-python",
   "name": "python",
   "nbconvert_exporter": "python",
   "pygments_lexer": "ipython3",
   "version": "3.9.19"
  }
 },
 "nbformat": 4,
 "nbformat_minor": 2
}
