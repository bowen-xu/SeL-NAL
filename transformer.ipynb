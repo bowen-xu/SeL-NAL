{
 "cells": [
  {
   "cell_type": "code",
   "execution_count": 1,
   "metadata": {},
   "outputs": [
    {
     "data": {
      "text/plain": [
       "<torch._C.Generator at 0x10b838ab0>"
      ]
     },
     "execution_count": 1,
     "metadata": {},
     "output_type": "execute_result"
    }
   ],
   "source": [
    "import torch\n",
    "import torch.nn as nn\n",
    "import torch.optim as optim\n",
    "from torch.utils.data import DataLoader, TensorDataset\n",
    "import numpy as np\n",
    "import pickle\n",
    "import math\n",
    "from bidict import bidict\n",
    "from tqdm import tqdm\n",
    "from utils.dataset import generate_dataset\n",
    "from utils.Profiler import Profiler\n",
    "from copy import deepcopy\n",
    "import pandas as pd\n",
    "import matplotlib.pyplot as plt\n",
    "from SequentialGroup import Column, Group, Node, Link\n",
    "\n",
    "np.random.seed(0)\n",
    "torch.manual_seed(0)\n",
    "\n"
   ]
  },
  {
   "cell_type": "code",
   "execution_count": 2,
   "metadata": {},
   "outputs": [],
   "source": [
    "def plot_curve(y, color='#1F77B4', color2=\"#82B0D2\", window_size = 1000, y_bottom=None, y_top=None, label=None):\n",
    "    s = pd.Series(y)\n",
    "    s_ma = s.rolling(window=window_size, min_periods=1).mean()\n",
    "    upper_quartile = s.rolling(window=window_size, min_periods=1).quantile(0.75)\n",
    "    lower_quartile = s.rolling(window=window_size, min_periods=1).quantile(0.25)\n",
    "    # plt.plot(s, c=color2, alpha=0.3, zorder=2)\n",
    "    plt.fill_between(s.index, lower_quartile, upper_quartile, color=color2, zorder=4)\n",
    "    plt.plot(s_ma, color=color, label=label, zorder=6)\n",
    "    plt.ylim(bottom=y_bottom, top=y_top)"
   ]
  },
  {
   "cell_type": "code",
   "execution_count": 3,
   "metadata": {},
   "outputs": [],
   "source": [
    "seq1 = ['A', 'B', 'C', 'D', 'E']\n",
    "seq2 = ['X', 'B', 'C', 'D', 'Y']\n",
    "seqs = [seq1, seq2]\n",
    "\n",
    "D_train, _, dictionary = generate_dataset(seqs)\n",
    "data = D_train[:5000]"
   ]
  },
  {
   "cell_type": "code",
   "execution_count": 4,
   "metadata": {},
   "outputs": [],
   "source": [
    "data_ = torch.tensor(data)\n"
   ]
  },
  {
   "cell_type": "code",
   "execution_count": 5,
   "metadata": {},
   "outputs": [],
   "source": [
    "embeddings = np.random.uniform(-1, 1, size=(27, 32))\n",
    "mapping = dict({i: embeddings[i] for i in range(len(embeddings))})"
   ]
  },
  {
   "cell_type": "markdown",
   "metadata": {},
   "source": [
    "## LSTM"
   ]
  },
  {
   "cell_type": "code",
   "execution_count": 6,
   "metadata": {},
   "outputs": [],
   "source": [
    "class SeL_LSTM(nn.Module):\n",
    "    def __init__(self, embeddings: torch.Tensor, num_layers, hidden_size, seq_length, dropout=0.1):\n",
    "        super(SeL_LSTM, self).__init__()\n",
    "        self.seq_length = seq_length\n",
    "        \n",
    "        embed = torch.FloatTensor(embeddings)\n",
    "        self.embedding = nn.Embedding(num_embeddings=embed.shape[0], embedding_dim=embed.shape[1], _weight=embed)\n",
    "        \n",
    "        self.lstm = nn.LSTM(input_size=embed.shape[1], hidden_size=hidden_size, num_layers=num_layers, dropout=dropout, batch_first=True)\n",
    "        self.decoder = nn.Linear(hidden_size, embed.shape[0])\n",
    "\n",
    "    def forward(self, src):\n",
    "        src = self.embedding(src)\n",
    "        lstm_out, _ = self.lstm(src)\n",
    "        output = self.decoder(lstm_out[:, -1, :])\n",
    "        return output"
   ]
  },
  {
   "cell_type": "code",
   "execution_count": 7,
   "metadata": {},
   "outputs": [],
   "source": [
    "num_layers = 2\n",
    "num_heads = 4\n",
    "seq_length = 4\n",
    "dropout = 0.1\n",
    "\n",
    "# Initialize model, loss function, and optimizer\n",
    "model = SeL_LSTM(embeddings, num_layers, num_heads, seq_length, dropout)\n",
    "criterion = nn.CrossEntropyLoss()\n",
    "optimizer = torch.optim.Adam(model.parameters(), lr=0.001)"
   ]
  },
  {
   "cell_type": "code",
   "execution_count": 8,
   "metadata": {},
   "outputs": [
    {
     "name": "stderr",
     "output_type": "stream",
     "text": [
      "  6%|▌         | 281/4996 [00:00<00:04, 955.47it/s]"
     ]
    },
    {
     "name": "stdout",
     "output_type": "stream",
     "text": [
      "3.1190199851989746\n",
      "3.341696262359619\n",
      "2.999910831451416\n"
     ]
    },
    {
     "name": "stderr",
     "output_type": "stream",
     "text": [
      " 12%|█▏        | 617/4996 [00:00<00:04, 1078.02it/s]"
     ]
    },
    {
     "name": "stdout",
     "output_type": "stream",
     "text": [
      "3.214792013168335\n",
      "2.4286561012268066\n",
      "3.273164749145508\n"
     ]
    },
    {
     "name": "stderr",
     "output_type": "stream",
     "text": [
      " 17%|█▋        | 838/4996 [00:00<00:03, 1074.98it/s]"
     ]
    },
    {
     "name": "stdout",
     "output_type": "stream",
     "text": [
      "2.6150550842285156\n",
      "3.0552492141723633\n",
      "2.543056011199951\n"
     ]
    },
    {
     "name": "stderr",
     "output_type": "stream",
     "text": [
      " 23%|██▎       | 1154/4996 [00:01<00:03, 1018.88it/s]"
     ]
    },
    {
     "name": "stdout",
     "output_type": "stream",
     "text": [
      "3.0703999996185303\n",
      "2.5271387100219727\n",
      "2.8212177753448486\n"
     ]
    },
    {
     "name": "stderr",
     "output_type": "stream",
     "text": [
      " 29%|██▉       | 1458/4996 [00:01<00:03, 934.10it/s] "
     ]
    },
    {
     "name": "stdout",
     "output_type": "stream",
     "text": [
      "2.254535436630249\n",
      "2.893503189086914\n"
     ]
    },
    {
     "name": "stderr",
     "output_type": "stream",
     "text": [
      " 33%|███▎      | 1661/4996 [00:01<00:03, 969.66it/s]"
     ]
    },
    {
     "name": "stdout",
     "output_type": "stream",
     "text": [
      "2.5328187942504883\n",
      "2.560659885406494\n",
      "2.2366414070129395\n"
     ]
    },
    {
     "name": "stderr",
     "output_type": "stream",
     "text": [
      " 40%|███▉      | 1975/4996 [00:01<00:02, 1018.63it/s]"
     ]
    },
    {
     "name": "stdout",
     "output_type": "stream",
     "text": [
      "2.4862120151519775\n",
      "2.1990742683410645\n",
      "2.486154317855835\n"
     ]
    },
    {
     "name": "stderr",
     "output_type": "stream",
     "text": [
      " 46%|████▌     | 2303/4996 [00:02<00:02, 1066.54it/s]"
     ]
    },
    {
     "name": "stdout",
     "output_type": "stream",
     "text": [
      "2.200063705444336\n",
      "2.4062721729278564\n",
      "2.0461935997009277\n"
     ]
    },
    {
     "name": "stderr",
     "output_type": "stream",
     "text": [
      " 51%|█████     | 2523/4996 [00:02<00:02, 1079.52it/s]"
     ]
    },
    {
     "name": "stdout",
     "output_type": "stream",
     "text": [
      "2.619107246398926\n",
      "2.031132221221924\n",
      "2.1533584594726562\n"
     ]
    },
    {
     "name": "stderr",
     "output_type": "stream",
     "text": [
      " 57%|█████▋    | 2861/4996 [00:02<00:01, 1109.27it/s]"
     ]
    },
    {
     "name": "stdout",
     "output_type": "stream",
     "text": [
      "1.9692069292068481\n",
      "2.6818671226501465\n",
      "1.7724192142486572\n"
     ]
    },
    {
     "name": "stderr",
     "output_type": "stream",
     "text": [
      " 64%|██████▍   | 3202/4996 [00:03<00:01, 1125.56it/s]"
     ]
    },
    {
     "name": "stdout",
     "output_type": "stream",
     "text": [
      "2.3915317058563232\n",
      "1.6749298572540283\n",
      "2.331885814666748\n"
     ]
    },
    {
     "name": "stderr",
     "output_type": "stream",
     "text": [
      " 69%|██████▊   | 3429/4996 [00:03<00:01, 1129.90it/s]"
     ]
    },
    {
     "name": "stdout",
     "output_type": "stream",
     "text": [
      "1.6520954370498657\n",
      "1.9644815921783447\n",
      "1.5084941387176514\n"
     ]
    },
    {
     "name": "stderr",
     "output_type": "stream",
     "text": [
      " 76%|███████▌  | 3772/4996 [00:03<00:01, 1129.68it/s]"
     ]
    },
    {
     "name": "stdout",
     "output_type": "stream",
     "text": [
      "1.9149949550628662\n",
      "1.4567431211471558\n",
      "1.8789716958999634\n"
     ]
    },
    {
     "name": "stderr",
     "output_type": "stream",
     "text": [
      " 82%|████████▏ | 4117/4996 [00:03<00:00, 1138.40it/s]"
     ]
    },
    {
     "name": "stdout",
     "output_type": "stream",
     "text": [
      "1.4228394031524658\n",
      "1.8180888891220093\n",
      "1.3752927780151367\n"
     ]
    },
    {
     "name": "stderr",
     "output_type": "stream",
     "text": [
      " 87%|████████▋ | 4345/4996 [00:04<00:00, 1128.91it/s]"
     ]
    },
    {
     "name": "stdout",
     "output_type": "stream",
     "text": [
      "1.728172779083252\n",
      "1.3883848190307617\n",
      "1.6054695844650269\n"
     ]
    },
    {
     "name": "stderr",
     "output_type": "stream",
     "text": [
      " 94%|█████████▍| 4689/4996 [00:04<00:00, 1139.54it/s]"
     ]
    },
    {
     "name": "stdout",
     "output_type": "stream",
     "text": [
      "1.2565319538116455\n",
      "1.6542850732803345\n",
      "1.1492356061935425\n"
     ]
    },
    {
     "name": "stderr",
     "output_type": "stream",
     "text": [
      "100%|██████████| 4996/4996 [00:04<00:00, 1073.30it/s]"
     ]
    },
    {
     "name": "stdout",
     "output_type": "stream",
     "text": [
      "1.8402352333068848\n",
      "1.1433801651000977\n"
     ]
    },
    {
     "name": "stderr",
     "output_type": "stream",
     "text": [
      "\n"
     ]
    }
   ],
   "source": [
    "losses = []\n",
    "accuracies1 = []\n",
    "profiler = Profiler(100)\n",
    "n_span = seq_length\n",
    "topk = 1\n",
    "for i in tqdm(range(n_span, len(data_))):\n",
    "    src, tgt = data_[i-n_span:i], data_[i:i+1]\n",
    "\n",
    "    optimizer.zero_grad()\n",
    "    pred: torch.Tensor = model(src.unsqueeze(0))\n",
    "    loss = criterion(pred.view(-1, pred.shape[-1]), tgt.view(-1))\n",
    "    # loss = criterion(output, tgt.unsqueeze(0))\n",
    "    loss.backward()\n",
    "    optimizer.step()\n",
    "\n",
    "\n",
    "    losses.append(float(loss))\n",
    "    if i%100 == 0:\n",
    "        print(losses[-1])\n",
    "\n",
    "    # labels = torch.argmax(pred.detach(), dim=-1)\n",
    "    _, labels = torch.topk(pred.detach(), topk)\n",
    "    anticipations = set(labels.squeeze(0).tolist())\n",
    "    acc = profiler.observe(anticipations, int(tgt))\n",
    "    \n",
    "    accuracies1.append(float(acc))\n"
   ]
  },
  {
   "cell_type": "code",
   "execution_count": 9,
   "metadata": {},
   "outputs": [
    {
     "data": {
      "text/plain": [
       "Text(0.5, 0, 'event')"
      ]
     },
     "execution_count": 9,
     "metadata": {},
     "output_type": "execute_result"
    },
    {
     "data": {
      "image/png": "[encoded data removed]",
      "text/plain": [
       "<Figure size 200x160 with 1 Axes>"
      ]
     },
     "metadata": {},
     "output_type": "display_data"
    }
   ],
   "source": [
    "plt.figure(figsize=(2,1.6))\n",
    "plt.subplots_adjust(left=0.3, right=1.0, top=0.95, bottom=0.3)\n",
    "plot_curve(accuracies1[:50000], y_bottom=0, y_top=1, label=\"all\")\n",
    "plt.axhline(0.5, color='#999999', alpha=0.5, linestyle='--', zorder=5)\n",
    "# plot_curve(accuracies1_2[:50000], color=\"#2CA02C\", color2=\"#8ECFC9\", y_bottom=0, y_top=1, label=\"Top1\")\n",
    "# plt.legend(loc='upper right')\n",
    "plt.ylabel(\"accuracy\")\n",
    "plt.xlabel(\"event\")"
   ]
  },
  {
   "cell_type": "markdown",
   "metadata": {},
   "source": [
    "## Transformer"
   ]
  },
  {
   "cell_type": "code",
   "execution_count": 10,
   "metadata": {},
   "outputs": [],
   "source": [
    "\n",
    "class SeL_Transformer(nn.Module):\n",
    "    def __init__(self, embeddings: torch.Tensor, num_layers, num_heads, seq_length, dropout=0.1):\n",
    "        super(SeL_Transformer, self).__init__()\n",
    "        self.seq_length = seq_length\n",
    "        \n",
    "        hidden_size = embeddings.shape[1]\n",
    "        \n",
    "        embed = torch.FloatTensor(embeddings)\n",
    "        self.embedding = nn.Embedding(num_embeddings=embed.shape[0], embedding_dim=embed.shape[1], _weight=embed)\n",
    "        \n",
    "        self.positional_encoding = nn.Parameter(torch.zeros(1, seq_length, hidden_size))\n",
    "        encoder_layer = nn.TransformerEncoderLayer(d_model=hidden_size, nhead=num_heads, dropout=dropout)\n",
    "        self.transformer_encoder = nn.TransformerEncoder(encoder_layer, num_layers=num_layers)\n",
    "        self.decoder = nn.Linear(hidden_size, embed.shape[0])\n",
    "\n",
    "    def forward(self, src):\n",
    "        src = self.embedding(src) + self.positional_encoding[:, :self.seq_length, :]\n",
    "        output = self.transformer_encoder(src)\n",
    "        output = self.decoder(output[:, -1, :])\n",
    "        return output"
   ]
  },
  {
   "cell_type": "code",
   "execution_count": 11,
   "metadata": {},
   "outputs": [
    {
     "name": "stderr",
     "output_type": "stream",
     "text": [
      "/opt/homebrew/Caskroom/miniforge/base/envs/PyNARS/lib/python3.9/site-packages/torch/nn/modules/transformer.py:306: UserWarning: enable_nested_tensor is True, but self.use_nested_tensor is False because encoder_layer.self_attn.batch_first was not True(use batch_first for better inference performance)\n",
      "  warnings.warn(f\"enable_nested_tensor is True, but self.use_nested_tensor is False because {why_not_sparsity_fast_path}\")\n"
     ]
    }
   ],
   "source": [
    "num_layers = 2\n",
    "num_heads = 4\n",
    "seq_length = len(seq1)\n",
    "dropout = 0.1\n",
    "\n",
    "# Initialize model, loss function, and optimizer\n",
    "model = SeL_Transformer(embeddings, num_layers, num_heads, seq_length, dropout)\n",
    "criterion = nn.CrossEntropyLoss()\n",
    "optimizer = torch.optim.Adam(model.parameters(), lr=0.001)"
   ]
  },
  {
   "cell_type": "code",
   "execution_count": 12,
   "metadata": {},
   "outputs": [
    {
     "name": "stderr",
     "output_type": "stream",
     "text": [
      "  3%|▎         | 129/4995 [00:00<00:30, 159.14it/s]"
     ]
    },
    {
     "name": "stdout",
     "output_type": "stream",
     "text": [
      "1.8090460300445557\n"
     ]
    },
    {
     "name": "stderr",
     "output_type": "stream",
     "text": [
      "  4%|▍         | 219/4995 [00:01<00:27, 171.87it/s]"
     ]
    },
    {
     "name": "stdout",
     "output_type": "stream",
     "text": [
      "4.978393077850342\n"
     ]
    },
    {
     "name": "stderr",
     "output_type": "stream",
     "text": [
      "  7%|▋         | 330/4995 [00:02<00:27, 172.18it/s]"
     ]
    },
    {
     "name": "stdout",
     "output_type": "stream",
     "text": [
      "0.6236518621444702\n"
     ]
    },
    {
     "name": "stderr",
     "output_type": "stream",
     "text": [
      "  8%|▊         | 418/4995 [00:02<00:27, 166.03it/s]"
     ]
    },
    {
     "name": "stdout",
     "output_type": "stream",
     "text": [
      "1.7606031894683838\n"
     ]
    },
    {
     "name": "stderr",
     "output_type": "stream",
     "text": [
      " 10%|█         | 521/4995 [00:03<00:27, 159.99it/s]"
     ]
    },
    {
     "name": "stdout",
     "output_type": "stream",
     "text": [
      "2.050177574157715\n"
     ]
    },
    {
     "name": "stderr",
     "output_type": "stream",
     "text": [
      " 13%|█▎        | 629/4995 [00:03<00:25, 171.76it/s]"
     ]
    },
    {
     "name": "stdout",
     "output_type": "stream",
     "text": [
      "1.5179897546768188\n"
     ]
    },
    {
     "name": "stderr",
     "output_type": "stream",
     "text": [
      " 14%|█▍        | 716/4995 [00:04<00:26, 159.79it/s]"
     ]
    },
    {
     "name": "stdout",
     "output_type": "stream",
     "text": [
      "0.614595353603363\n"
     ]
    },
    {
     "name": "stderr",
     "output_type": "stream",
     "text": [
      " 16%|█▋        | 822/4995 [00:05<00:24, 169.69it/s]"
     ]
    },
    {
     "name": "stdout",
     "output_type": "stream",
     "text": [
      "4.55616569519043\n"
     ]
    },
    {
     "name": "stderr",
     "output_type": "stream",
     "text": [
      " 19%|█▊        | 928/4995 [00:05<00:23, 173.83it/s]"
     ]
    },
    {
     "name": "stdout",
     "output_type": "stream",
     "text": [
      "0.8705958724021912\n"
     ]
    },
    {
     "name": "stderr",
     "output_type": "stream",
     "text": [
      " 20%|██        | 1021/4995 [00:06<00:22, 174.48it/s]"
     ]
    },
    {
     "name": "stdout",
     "output_type": "stream",
     "text": [
      "1.9572181701660156\n"
     ]
    },
    {
     "name": "stderr",
     "output_type": "stream",
     "text": [
      " 23%|██▎       | 1128/4995 [00:06<00:23, 161.16it/s]"
     ]
    },
    {
     "name": "stdout",
     "output_type": "stream",
     "text": [
      "0.970343828201294\n"
     ]
    },
    {
     "name": "stderr",
     "output_type": "stream",
     "text": [
      " 24%|██▍       | 1215/4995 [00:07<00:23, 160.22it/s]"
     ]
    },
    {
     "name": "stdout",
     "output_type": "stream",
     "text": [
      "2.189523935317993\n"
     ]
    },
    {
     "name": "stderr",
     "output_type": "stream",
     "text": [
      " 26%|██▋       | 1316/4995 [00:08<00:27, 134.41it/s]"
     ]
    },
    {
     "name": "stdout",
     "output_type": "stream",
     "text": [
      "0.7848700284957886\n"
     ]
    },
    {
     "name": "stderr",
     "output_type": "stream",
     "text": [
      " 28%|██▊       | 1417/4995 [00:08<00:22, 155.86it/s]"
     ]
    },
    {
     "name": "stdout",
     "output_type": "stream",
     "text": [
      "1.545750617980957\n"
     ]
    },
    {
     "name": "stderr",
     "output_type": "stream",
     "text": [
      " 30%|███       | 1523/4995 [00:09<00:21, 161.98it/s]"
     ]
    },
    {
     "name": "stdout",
     "output_type": "stream",
     "text": [
      "1.4541842937469482\n"
     ]
    },
    {
     "name": "stderr",
     "output_type": "stream",
     "text": [
      " 32%|███▏      | 1613/4995 [00:09<00:19, 171.18it/s]"
     ]
    },
    {
     "name": "stdout",
     "output_type": "stream",
     "text": [
      "1.7931586503982544\n"
     ]
    },
    {
     "name": "stderr",
     "output_type": "stream",
     "text": [
      " 35%|███▍      | 1724/4995 [00:10<00:18, 178.73it/s]"
     ]
    },
    {
     "name": "stdout",
     "output_type": "stream",
     "text": [
      "0.8842716217041016\n"
     ]
    },
    {
     "name": "stderr",
     "output_type": "stream",
     "text": [
      " 36%|███▋      | 1816/4995 [00:11<00:19, 160.82it/s]"
     ]
    },
    {
     "name": "stdout",
     "output_type": "stream",
     "text": [
      "1.9778928756713867\n"
     ]
    },
    {
     "name": "stderr",
     "output_type": "stream",
     "text": [
      " 39%|███▊      | 1927/4995 [00:11<00:18, 167.82it/s]"
     ]
    },
    {
     "name": "stdout",
     "output_type": "stream",
     "text": [
      "1.0127936601638794\n"
     ]
    },
    {
     "name": "stderr",
     "output_type": "stream",
     "text": [
      " 40%|████      | 2016/4995 [00:12<00:18, 164.35it/s]"
     ]
    },
    {
     "name": "stdout",
     "output_type": "stream",
     "text": [
      "2.203900098800659\n"
     ]
    },
    {
     "name": "stderr",
     "output_type": "stream",
     "text": [
      " 42%|████▏     | 2116/4995 [00:13<00:19, 149.08it/s]"
     ]
    },
    {
     "name": "stdout",
     "output_type": "stream",
     "text": [
      "1.9706125259399414\n"
     ]
    },
    {
     "name": "stderr",
     "output_type": "stream",
     "text": [
      " 45%|████▍     | 2223/4995 [00:13<00:16, 171.79it/s]"
     ]
    },
    {
     "name": "stdout",
     "output_type": "stream",
     "text": [
      "5.392150402069092\n"
     ]
    },
    {
     "name": "stderr",
     "output_type": "stream",
     "text": [
      " 46%|████▋     | 2314/4995 [00:14<00:18, 141.33it/s]"
     ]
    },
    {
     "name": "stdout",
     "output_type": "stream",
     "text": [
      "1.1614911556243896\n"
     ]
    },
    {
     "name": "stderr",
     "output_type": "stream",
     "text": [
      " 48%|████▊     | 2414/4995 [00:14<00:17, 146.50it/s]"
     ]
    },
    {
     "name": "stdout",
     "output_type": "stream",
     "text": [
      "3.850930690765381\n"
     ]
    },
    {
     "name": "stderr",
     "output_type": "stream",
     "text": [
      " 51%|█████     | 2524/4995 [00:15<00:16, 150.76it/s]"
     ]
    },
    {
     "name": "stdout",
     "output_type": "stream",
     "text": [
      "0.614226222038269\n"
     ]
    },
    {
     "name": "stderr",
     "output_type": "stream",
     "text": [
      " 52%|█████▏    | 2611/4995 [00:16<00:15, 152.43it/s]"
     ]
    },
    {
     "name": "stdout",
     "output_type": "stream",
     "text": [
      "1.6079767942428589\n"
     ]
    },
    {
     "name": "stderr",
     "output_type": "stream",
     "text": [
      " 55%|█████▍    | 2723/4995 [00:16<00:15, 150.30it/s]"
     ]
    },
    {
     "name": "stdout",
     "output_type": "stream",
     "text": [
      "0.8378205895423889\n"
     ]
    },
    {
     "name": "stderr",
     "output_type": "stream",
     "text": [
      " 57%|█████▋    | 2826/4995 [00:17<00:13, 164.03it/s]"
     ]
    },
    {
     "name": "stdout",
     "output_type": "stream",
     "text": [
      "4.498952388763428\n"
     ]
    },
    {
     "name": "stderr",
     "output_type": "stream",
     "text": [
      " 58%|█████▊    | 2921/4995 [00:18<00:14, 143.36it/s]"
     ]
    },
    {
     "name": "stdout",
     "output_type": "stream",
     "text": [
      "1.334376335144043\n"
     ]
    },
    {
     "name": "stderr",
     "output_type": "stream",
     "text": [
      " 60%|██████    | 3020/4995 [00:18<00:12, 158.69it/s]"
     ]
    },
    {
     "name": "stdout",
     "output_type": "stream",
     "text": [
      "1.9621760845184326\n"
     ]
    },
    {
     "name": "stderr",
     "output_type": "stream",
     "text": [
      " 63%|██████▎   | 3124/4995 [00:19<00:11, 162.32it/s]"
     ]
    },
    {
     "name": "stdout",
     "output_type": "stream",
     "text": [
      "1.0163862705230713\n"
     ]
    },
    {
     "name": "stderr",
     "output_type": "stream",
     "text": [
      " 64%|██████▍   | 3215/4995 [00:20<00:10, 169.10it/s]"
     ]
    },
    {
     "name": "stdout",
     "output_type": "stream",
     "text": [
      "5.109671592712402\n"
     ]
    },
    {
     "name": "stderr",
     "output_type": "stream",
     "text": [
      " 66%|██████▋   | 3321/4995 [00:20<00:10, 164.99it/s]"
     ]
    },
    {
     "name": "stdout",
     "output_type": "stream",
     "text": [
      "0.6314192414283752\n"
     ]
    },
    {
     "name": "stderr",
     "output_type": "stream",
     "text": [
      " 68%|██████▊   | 3409/4995 [00:21<00:10, 154.87it/s]"
     ]
    },
    {
     "name": "stdout",
     "output_type": "stream",
     "text": [
      "1.8865147829055786\n"
     ]
    },
    {
     "name": "stderr",
     "output_type": "stream",
     "text": [
      " 71%|███████   | 3524/4995 [00:22<00:09, 150.75it/s]"
     ]
    },
    {
     "name": "stdout",
     "output_type": "stream",
     "text": [
      "0.8670600652694702\n"
     ]
    },
    {
     "name": "stderr",
     "output_type": "stream",
     "text": [
      " 72%|███████▏  | 3620/4995 [00:22<00:09, 144.63it/s]"
     ]
    },
    {
     "name": "stdout",
     "output_type": "stream",
     "text": [
      "1.9976520538330078\n"
     ]
    },
    {
     "name": "stderr",
     "output_type": "stream",
     "text": [
      " 75%|███████▍  | 3724/4995 [00:23<00:07, 167.99it/s]"
     ]
    },
    {
     "name": "stdout",
     "output_type": "stream",
     "text": [
      "0.5384445190429688\n"
     ]
    },
    {
     "name": "stderr",
     "output_type": "stream",
     "text": [
      " 76%|███████▋  | 3812/4995 [00:23<00:07, 165.19it/s]"
     ]
    },
    {
     "name": "stdout",
     "output_type": "stream",
     "text": [
      "1.8977537155151367\n"
     ]
    },
    {
     "name": "stderr",
     "output_type": "stream",
     "text": [
      " 78%|███████▊  | 3918/4995 [00:24<00:06, 161.77it/s]"
     ]
    },
    {
     "name": "stdout",
     "output_type": "stream",
     "text": [
      "0.9206941723823547\n"
     ]
    },
    {
     "name": "stderr",
     "output_type": "stream",
     "text": [
      " 81%|████████  | 4023/4995 [00:25<00:05, 167.61it/s]"
     ]
    },
    {
     "name": "stdout",
     "output_type": "stream",
     "text": [
      "1.7029787302017212\n"
     ]
    },
    {
     "name": "stderr",
     "output_type": "stream",
     "text": [
      " 82%|████████▏ | 4111/4995 [00:25<00:05, 169.78it/s]"
     ]
    },
    {
     "name": "stdout",
     "output_type": "stream",
     "text": [
      "0.8605079054832458\n"
     ]
    },
    {
     "name": "stderr",
     "output_type": "stream",
     "text": [
      " 84%|████████▍ | 4215/4995 [00:26<00:04, 160.78it/s]"
     ]
    },
    {
     "name": "stdout",
     "output_type": "stream",
     "text": [
      "1.6895630359649658\n"
     ]
    },
    {
     "name": "stderr",
     "output_type": "stream",
     "text": [
      " 86%|████████▋ | 4320/4995 [00:26<00:04, 163.74it/s]"
     ]
    },
    {
     "name": "stdout",
     "output_type": "stream",
     "text": [
      "1.2643780708312988\n"
     ]
    },
    {
     "name": "stderr",
     "output_type": "stream",
     "text": [
      " 89%|████████▊ | 4427/4995 [00:27<00:03, 168.60it/s]"
     ]
    },
    {
     "name": "stdout",
     "output_type": "stream",
     "text": [
      "1.884316325187683\n"
     ]
    },
    {
     "name": "stderr",
     "output_type": "stream",
     "text": [
      " 90%|█████████ | 4515/4995 [00:28<00:02, 168.78it/s]"
     ]
    },
    {
     "name": "stdout",
     "output_type": "stream",
     "text": [
      "1.2683825492858887\n"
     ]
    },
    {
     "name": "stderr",
     "output_type": "stream",
     "text": [
      " 93%|█████████▎| 4621/4995 [00:28<00:02, 171.57it/s]"
     ]
    },
    {
     "name": "stdout",
     "output_type": "stream",
     "text": [
      "1.7402046918869019\n"
     ]
    },
    {
     "name": "stderr",
     "output_type": "stream",
     "text": [
      " 94%|█████████▍| 4714/4995 [00:29<00:01, 177.88it/s]"
     ]
    },
    {
     "name": "stdout",
     "output_type": "stream",
     "text": [
      "0.676694929599762\n"
     ]
    },
    {
     "name": "stderr",
     "output_type": "stream",
     "text": [
      " 97%|█████████▋| 4825/4995 [00:29<00:00, 177.12it/s]"
     ]
    },
    {
     "name": "stdout",
     "output_type": "stream",
     "text": [
      "4.979320049285889\n"
     ]
    },
    {
     "name": "stderr",
     "output_type": "stream",
     "text": [
      " 98%|█████████▊| 4914/4995 [00:30<00:00, 164.94it/s]"
     ]
    },
    {
     "name": "stdout",
     "output_type": "stream",
     "text": [
      "0.9476185441017151\n"
     ]
    },
    {
     "name": "stderr",
     "output_type": "stream",
     "text": [
      "100%|██████████| 4995/4995 [00:30<00:00, 161.48it/s]\n"
     ]
    }
   ],
   "source": [
    "losses = []\n",
    "accuracies2 = []\n",
    "profiler = Profiler(100)\n",
    "n_span = seq_length\n",
    "topk = 1\n",
    "for i in tqdm(range(n_span, len(data_))):\n",
    "    src, tgt = data_[i-n_span:i], data_[i:i+1]\n",
    "\n",
    "    optimizer.zero_grad()\n",
    "    pred: torch.Tensor = model(src.unsqueeze(0))\n",
    "    loss = criterion(pred.view(-1, pred.shape[-1]), tgt.view(-1))\n",
    "    # loss = criterion(output, tgt.unsqueeze(0))\n",
    "    loss.backward()\n",
    "    optimizer.step()\n",
    "\n",
    "\n",
    "    losses.append(float(loss))\n",
    "    if i%100 == 0:\n",
    "        print(losses[-1])\n",
    "\n",
    "    # labels = torch.argmax(pred.detach(), dim=-1)\n",
    "    _, labels = torch.topk(pred.detach(), topk)\n",
    "    anticipations = set(labels.squeeze(0).tolist())\n",
    "    acc = profiler.observe(anticipations, int(tgt))\n",
    "    \n",
    "    accuracies2.append(float(acc))\n"
   ]
  },
  {
   "cell_type": "code",
   "execution_count": 13,
   "metadata": {},
   "outputs": [
    {
     "data": {
      "text/plain": [
       "Text(0.5, 0, 'event')"
      ]
     },
     "execution_count": 13,
     "metadata": {},
     "output_type": "execute_result"
    },
    {
     "data": {
      "image/png": "[encoded data removed]",
      "text/plain": [
       "<Figure size 200x160 with 1 Axes>"
      ]
     },
     "metadata": {},
     "output_type": "display_data"
    }
   ],
   "source": [
    "plt.figure(figsize=(2,1.6))\n",
    "plt.subplots_adjust(left=0.3, right=1.0, top=0.95, bottom=0.3)\n",
    "plot_curve(accuracies2[:50000], y_bottom=0, y_top=1, label=\"all\")\n",
    "plt.axhline(0.5, color='#999999', alpha=0.5, linestyle='--', zorder=5)\n",
    "# plot_curve(accuracies1_2[:50000], color=\"#2CA02C\", color2=\"#8ECFC9\", y_bottom=0, y_top=1, label=\"Top1\")\n",
    "# plt.legend(loc='upper right')\n",
    "plt.ylabel(\"accuracy\")\n",
    "plt.xlabel(\"event\")"
   ]
  },
  {
   "cell_type": "markdown",
   "metadata": {},
   "source": [
    "## SeL-NAL"
   ]
  },
  {
   "cell_type": "code",
   "execution_count": 14,
   "metadata": {},
   "outputs": [],
   "source": [
    "def create_model(n_columns, n_nodes):\n",
    "    # Create the model\n",
    "    g = Group(n_columns, n_nodes)\n",
    "    g.thresh = 0.8\n",
    "    g.p_plus = 2 #1.95\n",
    "    g.p_minus = 0.99 #0.9\n",
    "    g.p_minus2 = 0.01\n",
    "\n",
    "    for idx, column in enumerate(g.columns):\n",
    "        column.mark = idx\n",
    "    return g\n",
    "\n",
    "def test_model(g: Group, data, top1=False):\n",
    "    print(len(data))\n",
    "    print(data[:20])\n",
    "    accuracies = []\n",
    "    n_anticipations = []\n",
    "\n",
    "    profiler = Profiler(100)\n",
    "    for i, (idx, idx_next) in enumerate((tqdm(zip(data[:-1], data[1:]), total=len(data)-1))):\n",
    "        candidates: set[Node] = g.activate(idx)\n",
    "        anticipations = set()\n",
    "        if not top1:\n",
    "            for candidate in candidates:\n",
    "                anticipations.add(candidate.column.mark)\n",
    "        else:\n",
    "            if len(candidates) > 0:\n",
    "                candidate = max(candidates, key=lambda node: node.activity_pred)\n",
    "                anticipations.add(candidate.column.mark)\n",
    "\n",
    "        ''' compute the accuracy '''\n",
    "        acc = profiler.observe(anticipations, idx_next)\n",
    "        accuracies.append(acc)\n",
    "        ''' count the number of valid anticipations '''\n",
    "        a = np.array(g.columns[idx].get_activities(), dtype=bool)\n",
    "        if not all(a):\n",
    "            n_anticipations.append((len(anticipations), sum(a)))\n",
    "        # n_anticipations.append(len(anticipations))\n",
    "        \n",
    "    return accuracies, g, n_anticipations"
   ]
  },
  {
   "cell_type": "code",
   "execution_count": 15,
   "metadata": {},
   "outputs": [
    {
     "name": "stdout",
     "output_type": "stream",
     "text": [
      "5000\n",
      "[3, 5, 2, 6, 0, 6, 13, 19, 3, 5, 2, 6, 0, 11, 14, 1, 4, 5, 2, 6]\n"
     ]
    },
    {
     "name": "stderr",
     "output_type": "stream",
     "text": [
      "100%|██████████| 4999/4999 [00:00<00:00, 10466.04it/s]\n"
     ]
    }
   ],
   "source": [
    "g1 = create_model(26, 10)\n",
    "accuracies3, _, _ = test_model(g1, data, top1=True)"
   ]
  },
  {
   "cell_type": "code",
   "execution_count": 16,
   "metadata": {},
   "outputs": [
    {
     "data": {
      "text/plain": [
       "Text(0.5, 0, 'event')"
      ]
     },
     "execution_count": 16,
     "metadata": {},
     "output_type": "execute_result"
    },
    {
     "data": {
      "image/png": "[encoded data removed]",
      "text/plain": [
       "<Figure size 200x160 with 1 Axes>"
      ]
     },
     "metadata": {},
     "output_type": "display_data"
    }
   ],
   "source": [
    "plt.figure(figsize=(2,1.6))\n",
    "plt.subplots_adjust(left=0.3, right=1.0, top=0.95, bottom=0.3)\n",
    "plot_curve(accuracies3[:50000], y_bottom=0, y_top=1, label=\"all\")\n",
    "plt.axhline(0.5, color='#999999', alpha=0.5, linestyle='--', zorder=5)\n",
    "plt.ylabel(\"accuracy\")\n",
    "plt.xlabel(\"event\")"
   ]
  },
  {
   "cell_type": "markdown",
   "metadata": {},
   "source": [
    "## Compare"
   ]
  },
  {
   "cell_type": "code",
   "execution_count": 17,
   "metadata": {},
   "outputs": [
    {
     "data": {
      "image/png": "[encoded data removed]",
      "text/plain": [
       "<Figure size 640x480 with 1 Axes>"
      ]
     },
     "metadata": {},
     "output_type": "display_data"
    }
   ],
   "source": [
    "plt.figure()\n",
    "# plt.subplots_adjust(left=0.3, right=1.0, top=0.95, bottom=0.3)\n",
    "plot_curve(accuracies1[:50000], color='#1F77B4', color2=\"#82B0D2\", y_bottom=0, y_top=1, label=\"LSTM\")\n",
    "plot_curve(accuracies2[:50000], color=\"#2CA02C\", color2=\"#8ECFC9\", y_bottom=0, y_top=1, label=\"Transformer\")\n",
    "plot_curve(accuracies3[:50000], color=\"#FF7F0E\", color2=\"#FFBE7A\", y_bottom=0, y_top=1, label=\"SeL-NAL\")\n",
    "plt.legend()\n",
    "plt.axhline(0.5, color='#999999', alpha=0.5, linestyle='--', zorder=5)\n",
    "plt.ylabel(\"accuracy\")\n",
    "plt.xlabel(\"event\")\n",
    "plt.savefig(\"Figures/compare.pdf\")"
   ]
  }
 ],
 "metadata": {
  "kernelspec": {
   "display_name": "PyTorchEnv",
   "language": "python",
   "name": "python3"
  },
  "language_info": {
   "codemirror_mode": {
    "name": "ipython",
    "version": 3
   },
   "file_extension": ".py",
   "mimetype": "text/x-python",
   "name": "python",
   "nbconvert_exporter": "python",
   "pygments_lexer": "ipython3",
   "version": "3.9.19"
  }
 },
 "nbformat": 4,
 "nbformat_minor": 2
}
